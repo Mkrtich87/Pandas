{
 "cells": [
  {
   "cell_type": "markdown",
   "metadata": {},
   "source": []
  },
  {
   "cell_type": "code",
   "execution_count": 3,
   "metadata": {},
   "outputs": [],
   "source": [
    "import pandas as pd\n",
    "import numpy as np"
   ]
  },
  {
   "cell_type": "code",
   "execution_count": 4,
   "metadata": {},
   "outputs": [
    {
     "data": {
      "text/plain": [
       "0        pandas\n",
       "1    Matplotlib\n",
       "2         Numpy\n",
       "dtype: object"
      ]
     },
     "execution_count": 4,
     "metadata": {},
     "output_type": "execute_result"
    }
   ],
   "source": [
    "data = [\"pandas\", \"Matplotlib\",\"Numpy\"]\n",
    "s=pd.Series(data)\n",
    "s"
   ]
  },
  {
   "cell_type": "code",
   "execution_count": 5,
   "metadata": {},
   "outputs": [
    {
     "data": {
      "text/plain": [
       "0    2.0\n",
       "1    NaN\n",
       "2    7.0\n",
       "3   -3.0\n",
       "4    0.0\n",
       "dtype: float64"
      ]
     },
     "execution_count": 5,
     "metadata": {},
     "output_type": "execute_result"
    }
   ],
   "source": [
    "s = pd.Series([2, np.nan, 7, -3, 0])\n",
    "s"
   ]
  },
  {
   "cell_type": "code",
   "execution_count": 6,
   "metadata": {},
   "outputs": [
    {
     "name": "stdout",
     "output_type": "stream",
     "text": [
      "4\n",
      "4\n",
      "a      3\n",
      "b     -5\n",
      "c      7\n",
      "d      4\n",
      "e    145\n",
      "dtype: int64\n"
     ]
    },
    {
     "name": "stderr",
     "output_type": "stream",
     "text": [
      "C:\\Users\\mkrti\\AppData\\Local\\Temp\\ipykernel_30132\\3946321920.py:3: FutureWarning: Series.__getitem__ treating keys as positions is deprecated. In a future version, integer keys will always be treated as labels (consistent with DataFrame behavior). To access a value by position, use `ser.iloc[pos]`\n",
      "  print(sample[3])\n"
     ]
    }
   ],
   "source": [
    "sample = pd.Series([3, -5, 7, 4, 145, 2, 0, -15], index=['a', 'b', 'c', 'd', 'e','f', 'g', 'h'])\n",
    "\n",
    "print(sample[3])\n",
    "\n",
    "print(sample['d'])\n",
    "\n",
    "print(sample[:5])\n"
   ]
  },
  {
   "cell_type": "markdown",
   "metadata": {},
   "source": []
  },
  {
   "cell_type": "markdown",
   "metadata": {},
   "source": [
    "To reveal all the indexes we use index method. Size method shows the number of the elements"
   ]
  },
  {
   "cell_type": "code",
   "execution_count": 7,
   "metadata": {},
   "outputs": [
    {
     "name": "stdout",
     "output_type": "stream",
     "text": [
      "Index(['a', 'b', 'c', 'd', 'e', 'f', 'g', 'h'], dtype='object')\n",
      "8\n"
     ]
    }
   ],
   "source": [
    "print(sample.index)\n",
    "print(sample.size)\n",
    "\n"
   ]
  },
  {
   "cell_type": "markdown",
   "metadata": {},
   "source": [
    "Trigonometric functions with the help of numpy"
   ]
  },
  {
   "cell_type": "code",
   "execution_count": 8,
   "metadata": {},
   "outputs": [
    {
     "name": "stdout",
     "output_type": "stream",
     "text": [
      "a    0.141120\n",
      "b    0.958924\n",
      "c    0.656987\n",
      "d   -0.756802\n",
      "e    0.467745\n",
      "f    0.909297\n",
      "g    0.000000\n",
      "h   -0.650288\n",
      "dtype: float64 \n",
      "\n",
      "a   -0.989992\n",
      "b    0.283662\n",
      "c    0.753902\n",
      "d   -0.653644\n",
      "e    0.883863\n",
      "f   -0.416147\n",
      "g    1.000000\n",
      "h   -0.759688\n",
      "dtype: float64 \n",
      "\n",
      "a   -0.142547\n",
      "b    3.380515\n",
      "c    0.871448\n",
      "d    1.157821\n",
      "e    0.529205\n",
      "f   -2.185040\n",
      "g    0.000000\n",
      "h    0.855993\n",
      "dtype: float64 \n",
      "\n"
     ]
    }
   ],
   "source": [
    "print(np.sin(sample), '\\n')\n",
    "print(np.cos(sample), '\\n')\n",
    "print(np.tan(sample), '\\n')"
   ]
  },
  {
   "cell_type": "markdown",
   "metadata": {},
   "source": [
    "Filtering"
   ]
  },
  {
   "cell_type": "code",
   "execution_count": 9,
   "metadata": {},
   "outputs": [
    {
     "name": "stdout",
     "output_type": "stream",
     "text": [
      "a    3\n",
      "f    2\n",
      "dtype: int64\n"
     ]
    }
   ],
   "source": [
    "print(sample[(sample>0) & (sample<4)])"
   ]
  },
  {
   "cell_type": "code",
   "execution_count": 10,
   "metadata": {},
   "outputs": [
    {
     "data": {
      "text/plain": [
       "a          3\n",
       "b         -5\n",
       "c          7\n",
       "d          4\n",
       "e        145\n",
       "f          2\n",
       "g          0\n",
       "h        -15\n",
       "test    1000\n",
       "dtype: int64"
      ]
     },
     "execution_count": 10,
     "metadata": {},
     "output_type": "execute_result"
    }
   ],
   "source": [
    "sample['test'] = 1000\n",
    "sample"
   ]
  },
  {
   "cell_type": "code",
   "execution_count": 11,
   "metadata": {},
   "outputs": [
    {
     "data": {
      "text/plain": [
       "a      3\n",
       "b     -5\n",
       "c      7\n",
       "d      4\n",
       "e    145\n",
       "f      2\n",
       "g      0\n",
       "h    -15\n",
       "dtype: int64"
      ]
     },
     "execution_count": 11,
     "metadata": {},
     "output_type": "execute_result"
    }
   ],
   "source": [
    "sample.drop(labels = ['test'])"
   ]
  },
  {
   "cell_type": "markdown",
   "metadata": {},
   "source": []
  },
  {
   "cell_type": "markdown",
   "metadata": {},
   "source": [
    "pd.read_excel('file.xlsx) reads from the excel file\n",
    "pd.read_csv('file.csv)\n"
   ]
  },
  {
   "cell_type": "code",
   "execution_count": 12,
   "metadata": {},
   "outputs": [],
   "source": [
    "df = pd.read_csv(r'C:/Users/mkrti/OneDrive/Документы/Python projects/Source Data/country_indicators.csv')"
   ]
  },
  {
   "cell_type": "code",
   "execution_count": 13,
   "metadata": {},
   "outputs": [
    {
     "data": {
      "text/html": [
       "<div>\n",
       "<style scoped>\n",
       "    .dataframe tbody tr th:only-of-type {\n",
       "        vertical-align: middle;\n",
       "    }\n",
       "\n",
       "    .dataframe tbody tr th {\n",
       "        vertical-align: top;\n",
       "    }\n",
       "\n",
       "    .dataframe thead th {\n",
       "        text-align: right;\n",
       "    }\n",
       "</style>\n",
       "<table border=\"1\" class=\"dataframe\">\n",
       "  <thead>\n",
       "    <tr style=\"text-align: right;\">\n",
       "      <th></th>\n",
       "      <th>Country</th>\n",
       "      <th>GDP</th>\n",
       "      <th>GDP Growth</th>\n",
       "      <th>Interest Rate</th>\n",
       "      <th>Inflation Rate</th>\n",
       "      <th>Jobless Rate</th>\n",
       "      <th>Gov. Budget</th>\n",
       "      <th>Debt/GDP</th>\n",
       "      <th>Current Account</th>\n",
       "      <th>Population</th>\n",
       "    </tr>\n",
       "  </thead>\n",
       "  <tbody>\n",
       "    <tr>\n",
       "      <th>0</th>\n",
       "      <td>United States</td>\n",
       "      <td>25463</td>\n",
       "      <td>4.9</td>\n",
       "      <td>5.50</td>\n",
       "      <td>3.10</td>\n",
       "      <td>3.7</td>\n",
       "      <td>-5.80</td>\n",
       "      <td>129.00</td>\n",
       "      <td>-3.7</td>\n",
       "      <td>334.23</td>\n",
       "    </tr>\n",
       "    <tr>\n",
       "      <th>1</th>\n",
       "      <td>China</td>\n",
       "      <td>17963</td>\n",
       "      <td>1.3</td>\n",
       "      <td>3.45</td>\n",
       "      <td>-0.50</td>\n",
       "      <td>5.0</td>\n",
       "      <td>-7.40</td>\n",
       "      <td>77.10</td>\n",
       "      <td>2.2</td>\n",
       "      <td>1411.75</td>\n",
       "    </tr>\n",
       "    <tr>\n",
       "      <th>2</th>\n",
       "      <td>Euro Area</td>\n",
       "      <td>14041</td>\n",
       "      <td>-0.1</td>\n",
       "      <td>4.50</td>\n",
       "      <td>2.40</td>\n",
       "      <td>6.5</td>\n",
       "      <td>-3.60</td>\n",
       "      <td>90.90</td>\n",
       "      <td>-0.6</td>\n",
       "      <td>342.89</td>\n",
       "    </tr>\n",
       "    <tr>\n",
       "      <th>3</th>\n",
       "      <td>Japan</td>\n",
       "      <td>4231</td>\n",
       "      <td>-0.7</td>\n",
       "      <td>-0.10</td>\n",
       "      <td>2.80</td>\n",
       "      <td>2.5</td>\n",
       "      <td>-6.40</td>\n",
       "      <td>263.90</td>\n",
       "      <td>1.9</td>\n",
       "      <td>124.95</td>\n",
       "    </tr>\n",
       "    <tr>\n",
       "      <th>4</th>\n",
       "      <td>Germany</td>\n",
       "      <td>4072</td>\n",
       "      <td>-0.1</td>\n",
       "      <td>4.50</td>\n",
       "      <td>3.20</td>\n",
       "      <td>5.9</td>\n",
       "      <td>-2.50</td>\n",
       "      <td>66.10</td>\n",
       "      <td>4.4</td>\n",
       "      <td>84.40</td>\n",
       "    </tr>\n",
       "    <tr>\n",
       "      <th>5</th>\n",
       "      <td>India</td>\n",
       "      <td>3385</td>\n",
       "      <td>1.9</td>\n",
       "      <td>6.50</td>\n",
       "      <td>5.55</td>\n",
       "      <td>7.1</td>\n",
       "      <td>-6.44</td>\n",
       "      <td>89.26</td>\n",
       "      <td>-2.6</td>\n",
       "      <td>1373.76</td>\n",
       "    </tr>\n",
       "    <tr>\n",
       "      <th>6</th>\n",
       "      <td>United Kingdom</td>\n",
       "      <td>3071</td>\n",
       "      <td>-0.1</td>\n",
       "      <td>5.25</td>\n",
       "      <td>3.90</td>\n",
       "      <td>4.2</td>\n",
       "      <td>-5.00</td>\n",
       "      <td>97.10</td>\n",
       "      <td>-5.6</td>\n",
       "      <td>67.79</td>\n",
       "    </tr>\n",
       "    <tr>\n",
       "      <th>7</th>\n",
       "      <td>France</td>\n",
       "      <td>2783</td>\n",
       "      <td>-0.1</td>\n",
       "      <td>4.50</td>\n",
       "      <td>3.50</td>\n",
       "      <td>7.4</td>\n",
       "      <td>-4.80</td>\n",
       "      <td>111.80</td>\n",
       "      <td>-2.0</td>\n",
       "      <td>67.84</td>\n",
       "    </tr>\n",
       "    <tr>\n",
       "      <th>8</th>\n",
       "      <td>Russia</td>\n",
       "      <td>2240</td>\n",
       "      <td>-0.8</td>\n",
       "      <td>16.00</td>\n",
       "      <td>7.50</td>\n",
       "      <td>2.9</td>\n",
       "      <td>-1.50</td>\n",
       "      <td>17.20</td>\n",
       "      <td>10.3</td>\n",
       "      <td>145.60</td>\n",
       "    </tr>\n",
       "    <tr>\n",
       "      <th>9</th>\n",
       "      <td>Canada</td>\n",
       "      <td>2140</td>\n",
       "      <td>-0.3</td>\n",
       "      <td>5.00</td>\n",
       "      <td>3.10</td>\n",
       "      <td>5.8</td>\n",
       "      <td>-3.60</td>\n",
       "      <td>107.00</td>\n",
       "      <td>-0.4</td>\n",
       "      <td>39.29</td>\n",
       "    </tr>\n",
       "  </tbody>\n",
       "</table>\n",
       "</div>"
      ],
      "text/plain": [
       "          Country    GDP  GDP Growth  Interest Rate  Inflation Rate  \\\n",
       "0   United States  25463         4.9           5.50            3.10   \n",
       "1           China  17963         1.3           3.45           -0.50   \n",
       "2       Euro Area  14041        -0.1           4.50            2.40   \n",
       "3           Japan   4231        -0.7          -0.10            2.80   \n",
       "4         Germany   4072        -0.1           4.50            3.20   \n",
       "5           India   3385         1.9           6.50            5.55   \n",
       "6  United Kingdom   3071        -0.1           5.25            3.90   \n",
       "7          France   2783        -0.1           4.50            3.50   \n",
       "8          Russia   2240        -0.8          16.00            7.50   \n",
       "9          Canada   2140        -0.3           5.00            3.10   \n",
       "\n",
       "   Jobless Rate  Gov. Budget  Debt/GDP  Current Account  Population  \n",
       "0           3.7        -5.80    129.00             -3.7      334.23  \n",
       "1           5.0        -7.40     77.10              2.2     1411.75  \n",
       "2           6.5        -3.60     90.90             -0.6      342.89  \n",
       "3           2.5        -6.40    263.90              1.9      124.95  \n",
       "4           5.9        -2.50     66.10              4.4       84.40  \n",
       "5           7.1        -6.44     89.26             -2.6     1373.76  \n",
       "6           4.2        -5.00     97.10             -5.6       67.79  \n",
       "7           7.4        -4.80    111.80             -2.0       67.84  \n",
       "8           2.9        -1.50     17.20             10.3      145.60  \n",
       "9           5.8        -3.60    107.00             -0.4       39.29  "
      ]
     },
     "execution_count": 13,
     "metadata": {},
     "output_type": "execute_result"
    }
   ],
   "source": [
    "df.head(10)"
   ]
  },
  {
   "cell_type": "code",
   "execution_count": 14,
   "metadata": {},
   "outputs": [
    {
     "name": "stdout",
     "output_type": "stream",
     "text": [
      "<class 'pandas.core.frame.DataFrame'>\n",
      "RangeIndex: 180 entries, 0 to 179\n",
      "Data columns (total 10 columns):\n",
      " #   Column           Non-Null Count  Dtype  \n",
      "---  ------           --------------  -----  \n",
      " 0   Country          180 non-null    object \n",
      " 1   GDP              180 non-null    int64  \n",
      " 2   GDP Growth       104 non-null    float64\n",
      " 3   Interest Rate    168 non-null    float64\n",
      " 4   Inflation Rate   179 non-null    float64\n",
      " 5   Jobless Rate     178 non-null    float64\n",
      " 6   Gov. Budget      174 non-null    float64\n",
      " 7   Debt/GDP         172 non-null    float64\n",
      " 8   Current Account  175 non-null    float64\n",
      " 9   Population       180 non-null    float64\n",
      "dtypes: float64(8), int64(1), object(1)\n",
      "memory usage: 14.2+ KB\n"
     ]
    }
   ],
   "source": [
    "df.info()"
   ]
  },
  {
   "cell_type": "code",
   "execution_count": 15,
   "metadata": {},
   "outputs": [
    {
     "data": {
      "text/plain": [
       "<bound method NDFrame.describe of                    Country    GDP  GDP Growth  Interest Rate  Inflation Rate  \\\n",
       "0            United States  25463         4.9           5.50            3.10   \n",
       "1                    China  17963         1.3           3.45           -0.50   \n",
       "2                Euro Area  14041        -0.1           4.50            2.40   \n",
       "3                    Japan   4231        -0.7          -0.10            2.80   \n",
       "4                  Germany   4072        -0.1           4.50            3.20   \n",
       "..                     ...    ...         ...            ...             ...   \n",
       "175                 Gambia      2         NaN          17.00           18.40   \n",
       "176          Guinea Bissau      2         NaN           5.25            3.80   \n",
       "177             Seychelles      2         NaN           2.00           -2.65   \n",
       "178  Sao Tome and Principe      1         NaN          10.00           13.01   \n",
       "179                Comoros      1         NaN           3.08            8.00   \n",
       "\n",
       "     Jobless Rate  Gov. Budget  Debt/GDP  Current Account  Population  \n",
       "0             3.7         -5.8     129.0             -3.7      334.23  \n",
       "1             5.0         -7.4      77.1              2.2     1411.75  \n",
       "2             6.5         -3.6      90.9             -0.6      342.89  \n",
       "3             2.5         -6.4     263.9              1.9      124.95  \n",
       "4             5.9         -2.5      66.1              4.4       84.40  \n",
       "..            ...          ...       ...              ...         ...  \n",
       "175           4.8         -4.8      80.8             -5.3        2.42  \n",
       "176           3.6         -5.5      41.1             -1.1        2.11  \n",
       "177           4.0         -1.7      65.0             -8.0        0.10  \n",
       "178          15.3         -7.2      88.0            -19.4        0.23  \n",
       "179           8.8         -3.0      31.6             -0.5        0.84  \n",
       "\n",
       "[180 rows x 10 columns]>"
      ]
     },
     "execution_count": 15,
     "metadata": {},
     "output_type": "execute_result"
    }
   ],
   "source": [
    "df.describe"
   ]
  },
  {
   "cell_type": "markdown",
   "metadata": {},
   "source": [
    "Removing the limit of displayed columns"
   ]
  },
  {
   "cell_type": "code",
   "execution_count": 16,
   "metadata": {},
   "outputs": [
    {
     "data": {
      "text/plain": [
       "20"
      ]
     },
     "execution_count": 16,
     "metadata": {},
     "output_type": "execute_result"
    }
   ],
   "source": [
    "pd.options.display.max_columns"
   ]
  },
  {
   "cell_type": "markdown",
   "metadata": {},
   "source": [
    "df information\n",
    "shape, size, number of dimensions, column names etc."
   ]
  },
  {
   "cell_type": "code",
   "execution_count": 20,
   "metadata": {},
   "outputs": [
    {
     "name": "stdout",
     "output_type": "stream",
     "text": [
      "(180, 10) \n",
      "\n",
      "1800 \n",
      "\n",
      "2 \n",
      "\n",
      "Country            180\n",
      "GDP                180\n",
      "GDP Growth         104\n",
      "Interest Rate      168\n",
      "Inflation Rate     179\n",
      "Jobless Rate       178\n",
      "Gov. Budget        174\n",
      "Debt/GDP           172\n",
      "Current Account    175\n",
      "Population         180\n",
      "dtype: int64\n",
      "RangeIndex(start=0, stop=180, step=1)   Index(['Country', 'GDP', 'GDP Growth', 'Interest Rate', 'Inflation Rate',\n",
      "       'Jobless Rate', 'Gov. Budget', 'Debt/GDP', 'Current Account',\n",
      "       'Population'],\n",
      "      dtype='object') \\ n\n"
     ]
    }
   ],
   "source": [
    "print(df.shape,'\\n')\n",
    "print(df.size, '\\n')\n",
    "print(df.ndim, '\\n')\n",
    "print(df.count())\n",
    "print(df.index,' ', df.columns, '\\ n')"
   ]
  },
  {
   "cell_type": "code",
   "execution_count": 21,
   "metadata": {},
   "outputs": [
    {
     "data": {
      "text/plain": [
       "Country      GDP    GDP Growth  Interest Rate  Inflation Rate  Jobless Rate  Gov. Budget  Debt/GDP  Current Account  Population\n",
       "Albania      19      2.30       3.25           3.90            10.5          -3.70        64.60     -6.0             2.79          1\n",
       "Algeria      192     0.80       3.00           8.20            11.6          -0.20        52.40      9.5             44.90         1\n",
       "Russia       2240   -0.80       16.00          7.50            2.9           -1.50        17.20      10.3            145.60        1\n",
       "Romania      301     0.90       7.00           6.72            5.4           -6.30        47.20     -9.1             19.04         1\n",
       "Qatar        237     0.50       6.25           1.29            0.1            0.00        46.90      26.0            2.91          1\n",
       "                                                                                                                                  ..\n",
       "Finland      281    -0.90       4.50           3.30            6.8           -0.80        73.30     -2.5             5.56          1\n",
       "Euro Area    14041  -0.10       4.50           2.40            6.5           -3.60        90.90     -0.6             342.89        1\n",
       "Estonia      38     -1.30       4.50           4.00            7.3           -1.00        18.50     -3.2             1.33          1\n",
       "El Salvador  32      0.66       5.02           2.11            5.0           -1.81        78.03     -8.3             6.34          1\n",
       "Vietnam      409     6.88       4.50           3.58            2.3           -3.41        37.10     -0.9             99.50         1\n",
       "Name: count, Length: 104, dtype: int64"
      ]
     },
     "execution_count": 21,
     "metadata": {},
     "output_type": "execute_result"
    }
   ],
   "source": [
    "df.value_counts()"
   ]
  },
  {
   "cell_type": "markdown",
   "metadata": {},
   "source": [
    "The result (counts) will be a Pandas Series where the unique values in the 'GDP' column are the index, and the corresponding values are the counts of each unique value."
   ]
  },
  {
   "cell_type": "code",
   "execution_count": 22,
   "metadata": {},
   "outputs": [
    {
     "data": {
      "text/plain": [
       "GDP\n",
       "13       6\n",
       "2        6\n",
       "15       4\n",
       "3        4\n",
       "4        4\n",
       "        ..\n",
       "127      1\n",
       "11       1\n",
       "114      1\n",
       "12       1\n",
       "25463    1\n",
       "Name: count, Length: 117, dtype: int64"
      ]
     },
     "execution_count": 22,
     "metadata": {},
     "output_type": "execute_result"
    }
   ],
   "source": [
    "df.value_counts('GDP')"
   ]
  },
  {
   "cell_type": "markdown",
   "metadata": {},
   "source": [
    "number of values"
   ]
  },
  {
   "cell_type": "code",
   "execution_count": 26,
   "metadata": {},
   "outputs": [
    {
     "data": {
      "text/plain": [
       "GDP\n",
       "2        6\n",
       "13       6\n",
       "19       4\n",
       "15       4\n",
       "3        4\n",
       "        ..\n",
       "471      1\n",
       "114      1\n",
       "17963    1\n",
       "127      1\n",
       "25463    1\n",
       "Name: count, Length: 117, dtype: int64"
      ]
     },
     "execution_count": 26,
     "metadata": {},
     "output_type": "execute_result"
    }
   ],
   "source": [
    "df['GDP']. value_counts()"
   ]
  },
  {
   "cell_type": "code",
   "execution_count": 29,
   "metadata": {},
   "outputs": [
    {
     "data": {
      "text/html": [
       "<div>\n",
       "<style scoped>\n",
       "    .dataframe tbody tr th:only-of-type {\n",
       "        vertical-align: middle;\n",
       "    }\n",
       "\n",
       "    .dataframe tbody tr th {\n",
       "        vertical-align: top;\n",
       "    }\n",
       "\n",
       "    .dataframe thead th {\n",
       "        text-align: right;\n",
       "    }\n",
       "</style>\n",
       "<table border=\"1\" class=\"dataframe\">\n",
       "  <thead>\n",
       "    <tr style=\"text-align: right;\">\n",
       "      <th></th>\n",
       "      <th>Country</th>\n",
       "      <th>GDP</th>\n",
       "    </tr>\n",
       "  </thead>\n",
       "  <tbody>\n",
       "    <tr>\n",
       "      <th>0</th>\n",
       "      <td>United States</td>\n",
       "      <td>25463</td>\n",
       "    </tr>\n",
       "    <tr>\n",
       "      <th>1</th>\n",
       "      <td>China</td>\n",
       "      <td>17963</td>\n",
       "    </tr>\n",
       "    <tr>\n",
       "      <th>2</th>\n",
       "      <td>Euro Area</td>\n",
       "      <td>14041</td>\n",
       "    </tr>\n",
       "    <tr>\n",
       "      <th>3</th>\n",
       "      <td>Japan</td>\n",
       "      <td>4231</td>\n",
       "    </tr>\n",
       "    <tr>\n",
       "      <th>4</th>\n",
       "      <td>Germany</td>\n",
       "      <td>4072</td>\n",
       "    </tr>\n",
       "    <tr>\n",
       "      <th>...</th>\n",
       "      <td>...</td>\n",
       "      <td>...</td>\n",
       "    </tr>\n",
       "    <tr>\n",
       "      <th>175</th>\n",
       "      <td>Gambia</td>\n",
       "      <td>2</td>\n",
       "    </tr>\n",
       "    <tr>\n",
       "      <th>176</th>\n",
       "      <td>Guinea Bissau</td>\n",
       "      <td>2</td>\n",
       "    </tr>\n",
       "    <tr>\n",
       "      <th>177</th>\n",
       "      <td>Seychelles</td>\n",
       "      <td>2</td>\n",
       "    </tr>\n",
       "    <tr>\n",
       "      <th>178</th>\n",
       "      <td>Sao Tome and Principe</td>\n",
       "      <td>1</td>\n",
       "    </tr>\n",
       "    <tr>\n",
       "      <th>179</th>\n",
       "      <td>Comoros</td>\n",
       "      <td>1</td>\n",
       "    </tr>\n",
       "  </tbody>\n",
       "</table>\n",
       "<p>180 rows × 2 columns</p>\n",
       "</div>"
      ],
      "text/plain": [
       "                   Country    GDP\n",
       "0            United States  25463\n",
       "1                    China  17963\n",
       "2                Euro Area  14041\n",
       "3                    Japan   4231\n",
       "4                  Germany   4072\n",
       "..                     ...    ...\n",
       "175                 Gambia      2\n",
       "176          Guinea Bissau      2\n",
       "177             Seychelles      2\n",
       "178  Sao Tome and Principe      1\n",
       "179                Comoros      1\n",
       "\n",
       "[180 rows x 2 columns]"
      ]
     },
     "execution_count": 29,
     "metadata": {},
     "output_type": "execute_result"
    }
   ],
   "source": [
    "df[['Country', 'GDP']]"
   ]
  },
  {
   "cell_type": "code",
   "execution_count": 32,
   "metadata": {},
   "outputs": [
    {
     "data": {
      "text/plain": [
       "Country              India\n",
       "GDP                   3385\n",
       "GDP Growth             1.9\n",
       "Interest Rate          6.5\n",
       "Inflation Rate        5.55\n",
       "Jobless Rate           7.1\n",
       "Gov. Budget          -6.44\n",
       "Debt/GDP             89.26\n",
       "Current Account       -2.6\n",
       "Population         1373.76\n",
       "Name: 5, dtype: object"
      ]
     },
     "execution_count": 32,
     "metadata": {},
     "output_type": "execute_result"
    }
   ],
   "source": [
    "df.iloc[5]"
   ]
  },
  {
   "cell_type": "markdown",
   "metadata": {},
   "source": [
    " Add an index with the first two letters of the 'Country' column"
   ]
  },
  {
   "cell_type": "code",
   "execution_count": 33,
   "metadata": {},
   "outputs": [],
   "source": [
    "df['Index'] = df['Country'].str[:2]"
   ]
  },
  {
   "cell_type": "markdown",
   "metadata": {},
   "source": [
    "Set the new 'Index' column as the index"
   ]
  },
  {
   "cell_type": "code",
   "execution_count": 34,
   "metadata": {},
   "outputs": [],
   "source": [
    "df.set_index('Index', inplace=True)"
   ]
  },
  {
   "cell_type": "code",
   "execution_count": 35,
   "metadata": {},
   "outputs": [
    {
     "name": "stdout",
     "output_type": "stream",
     "text": [
      "                     Country    GDP  GDP Growth  Interest Rate  \\\n",
      "Index                                                            \n",
      "Un             United States  25463         4.9           5.50   \n",
      "Ch                     China  17963         1.3           3.45   \n",
      "Eu                 Euro Area  14041        -0.1           4.50   \n",
      "Ja                     Japan   4231        -0.7          -0.10   \n",
      "Ge                   Germany   4072        -0.1           4.50   \n",
      "...                      ...    ...         ...            ...   \n",
      "Ga                    Gambia      2         NaN          17.00   \n",
      "Gu             Guinea Bissau      2         NaN           5.25   \n",
      "Se                Seychelles      2         NaN           2.00   \n",
      "Sa     Sao Tome and Principe      1         NaN          10.00   \n",
      "Co                   Comoros      1         NaN           3.08   \n",
      "\n",
      "       Inflation Rate  Jobless Rate  Gov. Budget  Debt/GDP  Current Account  \\\n",
      "Index                                                                         \n",
      "Un               3.10           3.7         -5.8     129.0             -3.7   \n",
      "Ch              -0.50           5.0         -7.4      77.1              2.2   \n",
      "Eu               2.40           6.5         -3.6      90.9             -0.6   \n",
      "Ja               2.80           2.5         -6.4     263.9              1.9   \n",
      "Ge               3.20           5.9         -2.5      66.1              4.4   \n",
      "...               ...           ...          ...       ...              ...   \n",
      "Ga              18.40           4.8         -4.8      80.8             -5.3   \n",
      "Gu               3.80           3.6         -5.5      41.1             -1.1   \n",
      "Se              -2.65           4.0         -1.7      65.0             -8.0   \n",
      "Sa              13.01          15.3         -7.2      88.0            -19.4   \n",
      "Co               8.00           8.8         -3.0      31.6             -0.5   \n",
      "\n",
      "       Population  \n",
      "Index              \n",
      "Un         334.23  \n",
      "Ch        1411.75  \n",
      "Eu         342.89  \n",
      "Ja         124.95  \n",
      "Ge          84.40  \n",
      "...           ...  \n",
      "Ga           2.42  \n",
      "Gu           2.11  \n",
      "Se           0.10  \n",
      "Sa           0.23  \n",
      "Co           0.84  \n",
      "\n",
      "[180 rows x 10 columns]\n"
     ]
    }
   ],
   "source": [
    "print(df)"
   ]
  },
  {
   "cell_type": "code",
   "execution_count": 42,
   "metadata": {},
   "outputs": [
    {
     "name": "stdout",
     "output_type": "stream",
     "text": [
      "         Country  GDP  GDP Growth  Interest Rate  Inflation Rate  \\\n",
      "Index                                                              \n",
      "Ar     Argentina  633        2.72         100.00          160.90   \n",
      "Ar       Armenia   20         NaN           9.25           -0.49   \n",
      "\n",
      "       Jobless Rate  Gov. Budget  Debt/GDP  Current Account  Population  \n",
      "Index                                                                    \n",
      "Ar              5.7         -2.4     85.00             -0.7       46.24  \n",
      "Ar             11.7         -2.5     49.27              0.1        2.98  \n"
     ]
    }
   ],
   "source": [
    "selected_row = df.loc['Ar']\n",
    "print(selected_row)"
   ]
  },
  {
   "cell_type": "code",
   "execution_count": 43,
   "metadata": {},
   "outputs": [
    {
     "name": "stdout",
     "output_type": "stream",
     "text": [
      "          Country    GDP  GDP Growth  Interest Rate  Inflation Rate  \\\n",
      "Index                                                                 \n",
      "Co       Colombia    344         0.2          13.00           10.15   \n",
      "Co     Costa Rica     68         1.9           6.00           -1.65   \n",
      "Co          Congo     58         NaN          25.00           37.60   \n",
      "Co        Comoros      1         NaN           3.08            8.00   \n",
      "Ch          China  17963         1.3           3.45           -0.50   \n",
      "Ch          Chile    301         0.3           8.25            4.80   \n",
      "Ch           Chad     13         NaN           5.00            1.90   \n",
      "\n",
      "       Jobless Rate  Gov. Budget  Debt/GDP  Current Account  Population  \n",
      "Index                                                                    \n",
      "Co              9.0         -4.3     63.60             -6.2       51.87  \n",
      "Co              8.1         -1.8     82.36             -4.3        5.16  \n",
      "Co             46.1         -2.8     14.60             -6.4       95.01  \n",
      "Co              8.8         -3.0     31.60             -0.5        0.84  \n",
      "Ch              5.0         -7.4     77.10              2.2     1411.75  \n",
      "Ch              8.7          1.1     38.00             -9.0       19.96  \n",
      "Ch              1.4          4.2     48.80              0.5       17.41  \n"
     ]
    }
   ],
   "source": [
    "selected_rows = df.loc[['Co', 'Ch']]\n",
    "print(selected_rows)"
   ]
  }
 ],
 "metadata": {
  "kernelspec": {
   "display_name": "Python 3",
   "language": "python",
   "name": "python3"
  },
  "language_info": {
   "codemirror_mode": {
    "name": "ipython",
    "version": 3
   },
   "file_extension": ".py",
   "mimetype": "text/x-python",
   "name": "python",
   "nbconvert_exporter": "python",
   "pygments_lexer": "ipython3",
   "version": "3.11.7"
  }
 },
 "nbformat": 4,
 "nbformat_minor": 2
}
