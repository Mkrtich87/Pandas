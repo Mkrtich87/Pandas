{
 "cells": [
  {
   "cell_type": "markdown",
   "metadata": {},
   "source": []
  },
  {
   "cell_type": "code",
   "execution_count": 2,
   "metadata": {},
   "outputs": [],
   "source": [
    "import pandas as pd\n",
    "import numpy as np"
   ]
  },
  {
   "cell_type": "code",
   "execution_count": 3,
   "metadata": {},
   "outputs": [
    {
     "data": {
      "text/plain": [
       "0        pandas\n",
       "1    Matplotlib\n",
       "2         Numpy\n",
       "dtype: object"
      ]
     },
     "execution_count": 3,
     "metadata": {},
     "output_type": "execute_result"
    }
   ],
   "source": [
    "data = [\"pandas\", \"Matplotlib\",\"Numpy\"]\n",
    "s=pd.Series(data)\n",
    "s"
   ]
  },
  {
   "cell_type": "code",
   "execution_count": 4,
   "metadata": {},
   "outputs": [
    {
     "data": {
      "text/plain": [
       "0    2.0\n",
       "1    NaN\n",
       "2    7.0\n",
       "3   -3.0\n",
       "4    0.0\n",
       "dtype: float64"
      ]
     },
     "execution_count": 4,
     "metadata": {},
     "output_type": "execute_result"
    }
   ],
   "source": [
    "s = pd.Series([2, np.nan, 7, -3, 0])\n",
    "s"
   ]
  },
  {
   "cell_type": "code",
   "execution_count": 19,
   "metadata": {},
   "outputs": [
    {
     "name": "stdout",
     "output_type": "stream",
     "text": [
      "4\n",
      "4\n",
      "a      3\n",
      "b     -5\n",
      "c      7\n",
      "d      4\n",
      "e    145\n",
      "dtype: int64\n"
     ]
    },
    {
     "name": "stderr",
     "output_type": "stream",
     "text": [
      "C:\\Users\\mkrti\\AppData\\Local\\Temp\\ipykernel_2792\\3946321920.py:3: FutureWarning: Series.__getitem__ treating keys as positions is deprecated. In a future version, integer keys will always be treated as labels (consistent with DataFrame behavior). To access a value by position, use `ser.iloc[pos]`\n",
      "  print(sample[3])\n"
     ]
    }
   ],
   "source": [
    "sample = pd.Series([3, -5, 7, 4, 145, 2, 0, -15], index=['a', 'b', 'c', 'd', 'e','f', 'g', 'h'])\n",
    "\n",
    "print(sample[3])\n",
    "\n",
    "print(sample['d'])\n",
    "\n",
    "print(sample[:5])\n"
   ]
  },
  {
   "cell_type": "markdown",
   "metadata": {},
   "source": []
  },
  {
   "cell_type": "markdown",
   "metadata": {},
   "source": [
    "To reveal all the indexes we use index method. Size method shows the number of the elements"
   ]
  },
  {
   "cell_type": "code",
   "execution_count": 20,
   "metadata": {},
   "outputs": [
    {
     "name": "stdout",
     "output_type": "stream",
     "text": [
      "Index(['a', 'b', 'c', 'd', 'e', 'f', 'g', 'h'], dtype='object')\n",
      "8\n"
     ]
    }
   ],
   "source": [
    "print(sample.index)\n",
    "print(sample.size)\n"
   ]
  },
  {
   "cell_type": "markdown",
   "metadata": {},
   "source": [
    "Filtering"
   ]
  },
  {
   "cell_type": "code",
   "execution_count": 21,
   "metadata": {},
   "outputs": [
    {
     "name": "stdout",
     "output_type": "stream",
     "text": [
      "a    3\n",
      "f    2\n",
      "dtype: int64\n"
     ]
    }
   ],
   "source": [
    "print(sample[(sample>0) & (sample<4)])"
   ]
  },
  {
   "cell_type": "code",
   "execution_count": 23,
   "metadata": {},
   "outputs": [
    {
     "data": {
      "text/html": [
       "<div>\n",
       "<style scoped>\n",
       "    .dataframe tbody tr th:only-of-type {\n",
       "        vertical-align: middle;\n",
       "    }\n",
       "\n",
       "    .dataframe tbody tr th {\n",
       "        vertical-align: top;\n",
       "    }\n",
       "\n",
       "    .dataframe thead th {\n",
       "        text-align: right;\n",
       "    }\n",
       "</style>\n",
       "<table border=\"1\" class=\"dataframe\">\n",
       "  <thead>\n",
       "    <tr style=\"text-align: right;\">\n",
       "      <th></th>\n",
       "      <th>Country</th>\n",
       "      <th>GDP</th>\n",
       "      <th>GDP Growth</th>\n",
       "      <th>Interest Rate</th>\n",
       "      <th>Inflation Rate</th>\n",
       "      <th>Jobless Rate</th>\n",
       "      <th>Gov. Budget</th>\n",
       "      <th>Debt/GDP</th>\n",
       "      <th>Current Account</th>\n",
       "      <th>Population</th>\n",
       "    </tr>\n",
       "  </thead>\n",
       "  <tbody>\n",
       "    <tr>\n",
       "      <th>0</th>\n",
       "      <td>United States</td>\n",
       "      <td>25463</td>\n",
       "      <td>4.9</td>\n",
       "      <td>5.50</td>\n",
       "      <td>3.10</td>\n",
       "      <td>3.7</td>\n",
       "      <td>-5.8</td>\n",
       "      <td>129.0</td>\n",
       "      <td>-3.7</td>\n",
       "      <td>334.23</td>\n",
       "    </tr>\n",
       "    <tr>\n",
       "      <th>1</th>\n",
       "      <td>China</td>\n",
       "      <td>17963</td>\n",
       "      <td>1.3</td>\n",
       "      <td>3.45</td>\n",
       "      <td>-0.50</td>\n",
       "      <td>5.0</td>\n",
       "      <td>-7.4</td>\n",
       "      <td>77.1</td>\n",
       "      <td>2.2</td>\n",
       "      <td>1411.75</td>\n",
       "    </tr>\n",
       "    <tr>\n",
       "      <th>2</th>\n",
       "      <td>Euro Area</td>\n",
       "      <td>14041</td>\n",
       "      <td>-0.1</td>\n",
       "      <td>4.50</td>\n",
       "      <td>2.40</td>\n",
       "      <td>6.5</td>\n",
       "      <td>-3.6</td>\n",
       "      <td>90.9</td>\n",
       "      <td>-0.6</td>\n",
       "      <td>342.89</td>\n",
       "    </tr>\n",
       "    <tr>\n",
       "      <th>3</th>\n",
       "      <td>Japan</td>\n",
       "      <td>4231</td>\n",
       "      <td>-0.7</td>\n",
       "      <td>-0.10</td>\n",
       "      <td>2.80</td>\n",
       "      <td>2.5</td>\n",
       "      <td>-6.4</td>\n",
       "      <td>263.9</td>\n",
       "      <td>1.9</td>\n",
       "      <td>124.95</td>\n",
       "    </tr>\n",
       "    <tr>\n",
       "      <th>4</th>\n",
       "      <td>Germany</td>\n",
       "      <td>4072</td>\n",
       "      <td>-0.1</td>\n",
       "      <td>4.50</td>\n",
       "      <td>3.20</td>\n",
       "      <td>5.9</td>\n",
       "      <td>-2.5</td>\n",
       "      <td>66.1</td>\n",
       "      <td>4.4</td>\n",
       "      <td>84.40</td>\n",
       "    </tr>\n",
       "    <tr>\n",
       "      <th>...</th>\n",
       "      <td>...</td>\n",
       "      <td>...</td>\n",
       "      <td>...</td>\n",
       "      <td>...</td>\n",
       "      <td>...</td>\n",
       "      <td>...</td>\n",
       "      <td>...</td>\n",
       "      <td>...</td>\n",
       "      <td>...</td>\n",
       "      <td>...</td>\n",
       "    </tr>\n",
       "    <tr>\n",
       "      <th>175</th>\n",
       "      <td>Gambia</td>\n",
       "      <td>2</td>\n",
       "      <td>NaN</td>\n",
       "      <td>17.00</td>\n",
       "      <td>18.40</td>\n",
       "      <td>4.8</td>\n",
       "      <td>-4.8</td>\n",
       "      <td>80.8</td>\n",
       "      <td>-5.3</td>\n",
       "      <td>2.42</td>\n",
       "    </tr>\n",
       "    <tr>\n",
       "      <th>176</th>\n",
       "      <td>Guinea Bissau</td>\n",
       "      <td>2</td>\n",
       "      <td>NaN</td>\n",
       "      <td>5.25</td>\n",
       "      <td>3.80</td>\n",
       "      <td>3.6</td>\n",
       "      <td>-5.5</td>\n",
       "      <td>41.1</td>\n",
       "      <td>-1.1</td>\n",
       "      <td>2.11</td>\n",
       "    </tr>\n",
       "    <tr>\n",
       "      <th>177</th>\n",
       "      <td>Seychelles</td>\n",
       "      <td>2</td>\n",
       "      <td>NaN</td>\n",
       "      <td>2.00</td>\n",
       "      <td>-2.65</td>\n",
       "      <td>4.0</td>\n",
       "      <td>-1.7</td>\n",
       "      <td>65.0</td>\n",
       "      <td>-8.0</td>\n",
       "      <td>0.10</td>\n",
       "    </tr>\n",
       "    <tr>\n",
       "      <th>178</th>\n",
       "      <td>Sao Tome and Principe</td>\n",
       "      <td>1</td>\n",
       "      <td>NaN</td>\n",
       "      <td>10.00</td>\n",
       "      <td>13.01</td>\n",
       "      <td>15.3</td>\n",
       "      <td>-7.2</td>\n",
       "      <td>88.0</td>\n",
       "      <td>-19.4</td>\n",
       "      <td>0.23</td>\n",
       "    </tr>\n",
       "    <tr>\n",
       "      <th>179</th>\n",
       "      <td>Comoros</td>\n",
       "      <td>1</td>\n",
       "      <td>NaN</td>\n",
       "      <td>3.08</td>\n",
       "      <td>8.00</td>\n",
       "      <td>8.8</td>\n",
       "      <td>-3.0</td>\n",
       "      <td>31.6</td>\n",
       "      <td>-0.5</td>\n",
       "      <td>0.84</td>\n",
       "    </tr>\n",
       "  </tbody>\n",
       "</table>\n",
       "<p>180 rows × 10 columns</p>\n",
       "</div>"
      ],
      "text/plain": [
       "                   Country    GDP  GDP Growth  Interest Rate  Inflation Rate  \\\n",
       "0            United States  25463         4.9           5.50            3.10   \n",
       "1                    China  17963         1.3           3.45           -0.50   \n",
       "2                Euro Area  14041        -0.1           4.50            2.40   \n",
       "3                    Japan   4231        -0.7          -0.10            2.80   \n",
       "4                  Germany   4072        -0.1           4.50            3.20   \n",
       "..                     ...    ...         ...            ...             ...   \n",
       "175                 Gambia      2         NaN          17.00           18.40   \n",
       "176          Guinea Bissau      2         NaN           5.25            3.80   \n",
       "177             Seychelles      2         NaN           2.00           -2.65   \n",
       "178  Sao Tome and Principe      1         NaN          10.00           13.01   \n",
       "179                Comoros      1         NaN           3.08            8.00   \n",
       "\n",
       "     Jobless Rate  Gov. Budget  Debt/GDP  Current Account  Population  \n",
       "0             3.7         -5.8     129.0             -3.7      334.23  \n",
       "1             5.0         -7.4      77.1              2.2     1411.75  \n",
       "2             6.5         -3.6      90.9             -0.6      342.89  \n",
       "3             2.5         -6.4     263.9              1.9      124.95  \n",
       "4             5.9         -2.5      66.1              4.4       84.40  \n",
       "..            ...          ...       ...              ...         ...  \n",
       "175           4.8         -4.8      80.8             -5.3        2.42  \n",
       "176           3.6         -5.5      41.1             -1.1        2.11  \n",
       "177           4.0         -1.7      65.0             -8.0        0.10  \n",
       "178          15.3         -7.2      88.0            -19.4        0.23  \n",
       "179           8.8         -3.0      31.6             -0.5        0.84  \n",
       "\n",
       "[180 rows x 10 columns]"
      ]
     },
     "execution_count": 23,
     "metadata": {},
     "output_type": "execute_result"
    }
   ],
   "source": [
    "pd.read_csv(r'C:/Users/mkrti/OneDrive/Документы/Python projects/Source Data/country_indicators.csv')"
   ]
  }
 ],
 "metadata": {
  "kernelspec": {
   "display_name": "Python 3",
   "language": "python",
   "name": "python3"
  },
  "language_info": {
   "codemirror_mode": {
    "name": "ipython",
    "version": 3
   },
   "file_extension": ".py",
   "mimetype": "text/x-python",
   "name": "python",
   "nbconvert_exporter": "python",
   "pygments_lexer": "ipython3",
   "version": "3.11.7"
  }
 },
 "nbformat": 4,
 "nbformat_minor": 2
}
