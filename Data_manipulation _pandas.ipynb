{
 "cells": [
  {
   "cell_type": "code",
   "execution_count": 1,
   "metadata": {},
   "outputs": [],
   "source": [
    "import pandas as pd\n",
    "import numpy as np"
   ]
  },
  {
   "cell_type": "code",
   "execution_count": 2,
   "metadata": {},
   "outputs": [],
   "source": [
    "df = pd.read_csv(r'C:/Users/mkrti/OneDrive/Документы/Python projects/Pandas/Data for pandas/bank_transactions_data_2.csv')"
   ]
  },
  {
   "cell_type": "code",
   "execution_count": 3,
   "metadata": {},
   "outputs": [],
   "source": [
    "pd.set_option('display.max_columns', None)\n",
    "pd.set_option('display.width', 0)\n",
    "pd.set_option('display.expand_frame_repr', False)"
   ]
  },
  {
   "cell_type": "code",
   "execution_count": 4,
   "metadata": {},
   "outputs": [
    {
     "data": {
      "text/plain": [
       "<bound method NDFrame.head of      TransactionID AccountID  TransactionAmount      TransactionDate TransactionType          Location DeviceID      IP Address MerchantID Channel  CustomerAge CustomerOccupation  TransactionDuration  LoginAttempts  AccountBalance PreviousTransactionDate\n",
       "0         TX000001   AC00128              14.09  2023-04-11 16:29:14           Debit         San Diego  D000380  162.198.218.92       M015     ATM           70             Doctor                   81              1         5112.21     2024-11-04 08:08:08\n",
       "1         TX000002   AC00455             376.24  2023-06-27 16:44:19           Debit           Houston  D000051     13.149.61.4       M052     ATM           68             Doctor                  141              1        13758.91     2024-11-04 08:09:35\n",
       "2         TX000003   AC00019             126.29  2023-07-10 18:16:08           Debit              Mesa  D000235  215.97.143.157       M009  Online           19            Student                   56              1         1122.35     2024-11-04 08:07:04\n",
       "3         TX000004   AC00070             184.50  2023-05-05 16:32:11           Debit           Raleigh  D000187  200.13.225.150       M002  Online           26            Student                   25              1         8569.06     2024-11-04 08:09:06\n",
       "4         TX000005   AC00411              13.45  2023-10-16 17:51:24          Credit           Atlanta  D000308    65.164.3.100       M091  Online           26            Student                  198              1         7429.40     2024-11-04 08:06:39\n",
       "...            ...       ...                ...                  ...             ...               ...      ...             ...        ...     ...          ...                ...                  ...            ...             ...                     ...\n",
       "2507      TX002508   AC00297             856.21  2023-04-26 17:09:36          Credit  Colorado Springs  D000625    21.157.41.17       M072  Branch           33             Doctor                  109              1        12690.79     2024-11-04 08:11:29\n",
       "2508      TX002509   AC00322             251.54  2023-03-22 17:36:48           Debit            Tucson  D000410  49.174.157.140       M029  Branch           48             Doctor                  177              1          254.75     2024-11-04 08:11:42\n",
       "2509      TX002510   AC00095              28.63  2023-08-21 17:08:50           Debit         San Diego  D000095     58.1.27.124       M087  Branch           56            Retired                  146              1         3382.91     2024-11-04 08:08:39\n",
       "2510      TX002511   AC00118             185.97  2023-02-24 16:24:46           Debit            Denver  D000634   21.190.11.223       M041  Online           23            Student                   19              1         1776.91     2024-11-04 08:12:22\n",
       "2511      TX002512   AC00009             243.08  2023-02-14 16:21:23          Credit      Jacksonville  D000215   59.127.135.25       M041  Online           24            Student                   93              1          131.25     2024-11-04 08:07:49\n",
       "\n",
       "[2512 rows x 16 columns]>"
      ]
     },
     "execution_count": 4,
     "metadata": {},
     "output_type": "execute_result"
    }
   ],
   "source": [
    "df.head"
   ]
  },
  {
   "cell_type": "code",
   "execution_count": 5,
   "metadata": {},
   "outputs": [
    {
     "data": {
      "text/html": [
       "<div>\n",
       "<style scoped>\n",
       "    .dataframe tbody tr th:only-of-type {\n",
       "        vertical-align: middle;\n",
       "    }\n",
       "\n",
       "    .dataframe tbody tr th {\n",
       "        vertical-align: top;\n",
       "    }\n",
       "\n",
       "    .dataframe thead th {\n",
       "        text-align: right;\n",
       "    }\n",
       "</style>\n",
       "<table border=\"1\" class=\"dataframe\">\n",
       "  <thead>\n",
       "    <tr style=\"text-align: right;\">\n",
       "      <th></th>\n",
       "      <th>TransactionID</th>\n",
       "      <th>AccountID</th>\n",
       "      <th>TransactionAmount</th>\n",
       "      <th>TransactionDate</th>\n",
       "      <th>TransactionType</th>\n",
       "      <th>Location</th>\n",
       "      <th>DeviceID</th>\n",
       "      <th>IP Address</th>\n",
       "      <th>MerchantID</th>\n",
       "      <th>Channel</th>\n",
       "      <th>CustomerAge</th>\n",
       "      <th>CustomerOccupation</th>\n",
       "      <th>TransactionDuration</th>\n",
       "      <th>LoginAttempts</th>\n",
       "      <th>AccountBalance</th>\n",
       "      <th>PreviousTransactionDate</th>\n",
       "    </tr>\n",
       "  </thead>\n",
       "  <tbody>\n",
       "    <tr>\n",
       "      <th>2507</th>\n",
       "      <td>TX002508</td>\n",
       "      <td>AC00297</td>\n",
       "      <td>856.21</td>\n",
       "      <td>2023-04-26 17:09:36</td>\n",
       "      <td>Credit</td>\n",
       "      <td>Colorado Springs</td>\n",
       "      <td>D000625</td>\n",
       "      <td>21.157.41.17</td>\n",
       "      <td>M072</td>\n",
       "      <td>Branch</td>\n",
       "      <td>33</td>\n",
       "      <td>Doctor</td>\n",
       "      <td>109</td>\n",
       "      <td>1</td>\n",
       "      <td>12690.79</td>\n",
       "      <td>2024-11-04 08:11:29</td>\n",
       "    </tr>\n",
       "    <tr>\n",
       "      <th>2508</th>\n",
       "      <td>TX002509</td>\n",
       "      <td>AC00322</td>\n",
       "      <td>251.54</td>\n",
       "      <td>2023-03-22 17:36:48</td>\n",
       "      <td>Debit</td>\n",
       "      <td>Tucson</td>\n",
       "      <td>D000410</td>\n",
       "      <td>49.174.157.140</td>\n",
       "      <td>M029</td>\n",
       "      <td>Branch</td>\n",
       "      <td>48</td>\n",
       "      <td>Doctor</td>\n",
       "      <td>177</td>\n",
       "      <td>1</td>\n",
       "      <td>254.75</td>\n",
       "      <td>2024-11-04 08:11:42</td>\n",
       "    </tr>\n",
       "    <tr>\n",
       "      <th>2509</th>\n",
       "      <td>TX002510</td>\n",
       "      <td>AC00095</td>\n",
       "      <td>28.63</td>\n",
       "      <td>2023-08-21 17:08:50</td>\n",
       "      <td>Debit</td>\n",
       "      <td>San Diego</td>\n",
       "      <td>D000095</td>\n",
       "      <td>58.1.27.124</td>\n",
       "      <td>M087</td>\n",
       "      <td>Branch</td>\n",
       "      <td>56</td>\n",
       "      <td>Retired</td>\n",
       "      <td>146</td>\n",
       "      <td>1</td>\n",
       "      <td>3382.91</td>\n",
       "      <td>2024-11-04 08:08:39</td>\n",
       "    </tr>\n",
       "    <tr>\n",
       "      <th>2510</th>\n",
       "      <td>TX002511</td>\n",
       "      <td>AC00118</td>\n",
       "      <td>185.97</td>\n",
       "      <td>2023-02-24 16:24:46</td>\n",
       "      <td>Debit</td>\n",
       "      <td>Denver</td>\n",
       "      <td>D000634</td>\n",
       "      <td>21.190.11.223</td>\n",
       "      <td>M041</td>\n",
       "      <td>Online</td>\n",
       "      <td>23</td>\n",
       "      <td>Student</td>\n",
       "      <td>19</td>\n",
       "      <td>1</td>\n",
       "      <td>1776.91</td>\n",
       "      <td>2024-11-04 08:12:22</td>\n",
       "    </tr>\n",
       "    <tr>\n",
       "      <th>2511</th>\n",
       "      <td>TX002512</td>\n",
       "      <td>AC00009</td>\n",
       "      <td>243.08</td>\n",
       "      <td>2023-02-14 16:21:23</td>\n",
       "      <td>Credit</td>\n",
       "      <td>Jacksonville</td>\n",
       "      <td>D000215</td>\n",
       "      <td>59.127.135.25</td>\n",
       "      <td>M041</td>\n",
       "      <td>Online</td>\n",
       "      <td>24</td>\n",
       "      <td>Student</td>\n",
       "      <td>93</td>\n",
       "      <td>1</td>\n",
       "      <td>131.25</td>\n",
       "      <td>2024-11-04 08:07:49</td>\n",
       "    </tr>\n",
       "  </tbody>\n",
       "</table>\n",
       "</div>"
      ],
      "text/plain": [
       "     TransactionID AccountID  TransactionAmount      TransactionDate TransactionType          Location DeviceID      IP Address MerchantID Channel  CustomerAge CustomerOccupation  TransactionDuration  LoginAttempts  AccountBalance PreviousTransactionDate\n",
       "2507      TX002508   AC00297             856.21  2023-04-26 17:09:36          Credit  Colorado Springs  D000625    21.157.41.17       M072  Branch           33             Doctor                  109              1        12690.79     2024-11-04 08:11:29\n",
       "2508      TX002509   AC00322             251.54  2023-03-22 17:36:48           Debit            Tucson  D000410  49.174.157.140       M029  Branch           48             Doctor                  177              1          254.75     2024-11-04 08:11:42\n",
       "2509      TX002510   AC00095              28.63  2023-08-21 17:08:50           Debit         San Diego  D000095     58.1.27.124       M087  Branch           56            Retired                  146              1         3382.91     2024-11-04 08:08:39\n",
       "2510      TX002511   AC00118             185.97  2023-02-24 16:24:46           Debit            Denver  D000634   21.190.11.223       M041  Online           23            Student                   19              1         1776.91     2024-11-04 08:12:22\n",
       "2511      TX002512   AC00009             243.08  2023-02-14 16:21:23          Credit      Jacksonville  D000215   59.127.135.25       M041  Online           24            Student                   93              1          131.25     2024-11-04 08:07:49"
      ]
     },
     "execution_count": 5,
     "metadata": {},
     "output_type": "execute_result"
    }
   ],
   "source": [
    "df.tail()"
   ]
  },
  {
   "cell_type": "code",
   "execution_count": 6,
   "metadata": {},
   "outputs": [
    {
     "data": {
      "text/plain": [
       "(2512, 16)"
      ]
     },
     "execution_count": 6,
     "metadata": {},
     "output_type": "execute_result"
    }
   ],
   "source": [
    "df.shape"
   ]
  },
  {
   "cell_type": "code",
   "execution_count": 7,
   "metadata": {},
   "outputs": [
    {
     "data": {
      "text/html": [
       "<div>\n",
       "<style scoped>\n",
       "    .dataframe tbody tr th:only-of-type {\n",
       "        vertical-align: middle;\n",
       "    }\n",
       "\n",
       "    .dataframe tbody tr th {\n",
       "        vertical-align: top;\n",
       "    }\n",
       "\n",
       "    .dataframe thead th {\n",
       "        text-align: right;\n",
       "    }\n",
       "</style>\n",
       "<table border=\"1\" class=\"dataframe\">\n",
       "  <thead>\n",
       "    <tr style=\"text-align: right;\">\n",
       "      <th></th>\n",
       "      <th>TransactionID</th>\n",
       "      <th>AccountID</th>\n",
       "      <th>TransactionAmount</th>\n",
       "      <th>TransactionDate</th>\n",
       "      <th>TransactionType</th>\n",
       "      <th>Location</th>\n",
       "      <th>DeviceID</th>\n",
       "      <th>IP Address</th>\n",
       "      <th>MerchantID</th>\n",
       "      <th>Channel</th>\n",
       "      <th>CustomerAge</th>\n",
       "      <th>CustomerOccupation</th>\n",
       "      <th>TransactionDuration</th>\n",
       "      <th>LoginAttempts</th>\n",
       "      <th>AccountBalance</th>\n",
       "      <th>PreviousTransactionDate</th>\n",
       "    </tr>\n",
       "  </thead>\n",
       "  <tbody>\n",
       "    <tr>\n",
       "      <th>2250</th>\n",
       "      <td>TX002251</td>\n",
       "      <td>AC00325</td>\n",
       "      <td>403.63</td>\n",
       "      <td>2023-06-08 16:56:16</td>\n",
       "      <td>Debit</td>\n",
       "      <td>Las Vegas</td>\n",
       "      <td>D000573</td>\n",
       "      <td>96.162.11.85</td>\n",
       "      <td>M042</td>\n",
       "      <td>Branch</td>\n",
       "      <td>31</td>\n",
       "      <td>Engineer</td>\n",
       "      <td>167</td>\n",
       "      <td>3</td>\n",
       "      <td>3304.02</td>\n",
       "      <td>2024-11-04 08:07:58</td>\n",
       "    </tr>\n",
       "    <tr>\n",
       "      <th>411</th>\n",
       "      <td>TX000412</td>\n",
       "      <td>AC00210</td>\n",
       "      <td>242.03</td>\n",
       "      <td>2023-03-13 16:08:41</td>\n",
       "      <td>Debit</td>\n",
       "      <td>Dallas</td>\n",
       "      <td>D000605</td>\n",
       "      <td>219.98.242.240</td>\n",
       "      <td>M014</td>\n",
       "      <td>Online</td>\n",
       "      <td>58</td>\n",
       "      <td>Engineer</td>\n",
       "      <td>124</td>\n",
       "      <td>1</td>\n",
       "      <td>4382.73</td>\n",
       "      <td>2024-11-04 08:07:12</td>\n",
       "    </tr>\n",
       "    <tr>\n",
       "      <th>276</th>\n",
       "      <td>TX000277</td>\n",
       "      <td>AC00403</td>\n",
       "      <td>167.14</td>\n",
       "      <td>2023-04-24 18:33:29</td>\n",
       "      <td>Debit</td>\n",
       "      <td>Denver</td>\n",
       "      <td>D000231</td>\n",
       "      <td>125.89.163.224</td>\n",
       "      <td>M049</td>\n",
       "      <td>Online</td>\n",
       "      <td>76</td>\n",
       "      <td>Retired</td>\n",
       "      <td>20</td>\n",
       "      <td>1</td>\n",
       "      <td>3877.73</td>\n",
       "      <td>2024-11-04 08:06:26</td>\n",
       "    </tr>\n",
       "    <tr>\n",
       "      <th>2270</th>\n",
       "      <td>TX002271</td>\n",
       "      <td>AC00396</td>\n",
       "      <td>789.80</td>\n",
       "      <td>2023-07-10 16:04:39</td>\n",
       "      <td>Debit</td>\n",
       "      <td>Jacksonville</td>\n",
       "      <td>D000271</td>\n",
       "      <td>63.82.133.139</td>\n",
       "      <td>M038</td>\n",
       "      <td>ATM</td>\n",
       "      <td>40</td>\n",
       "      <td>Doctor</td>\n",
       "      <td>94</td>\n",
       "      <td>1</td>\n",
       "      <td>13948.09</td>\n",
       "      <td>2024-11-04 08:07:32</td>\n",
       "    </tr>\n",
       "    <tr>\n",
       "      <th>1310</th>\n",
       "      <td>TX001311</td>\n",
       "      <td>AC00032</td>\n",
       "      <td>52.23</td>\n",
       "      <td>2023-09-11 18:08:19</td>\n",
       "      <td>Credit</td>\n",
       "      <td>San Francisco</td>\n",
       "      <td>D000088</td>\n",
       "      <td>154.138.163.229</td>\n",
       "      <td>M016</td>\n",
       "      <td>Branch</td>\n",
       "      <td>28</td>\n",
       "      <td>Student</td>\n",
       "      <td>96</td>\n",
       "      <td>1</td>\n",
       "      <td>105.01</td>\n",
       "      <td>2024-11-04 08:08:11</td>\n",
       "    </tr>\n",
       "  </tbody>\n",
       "</table>\n",
       "</div>"
      ],
      "text/plain": [
       "     TransactionID AccountID  TransactionAmount      TransactionDate TransactionType       Location DeviceID       IP Address MerchantID Channel  CustomerAge CustomerOccupation  TransactionDuration  LoginAttempts  AccountBalance PreviousTransactionDate\n",
       "2250      TX002251   AC00325             403.63  2023-06-08 16:56:16           Debit      Las Vegas  D000573     96.162.11.85       M042  Branch           31           Engineer                  167              3         3304.02     2024-11-04 08:07:58\n",
       "411       TX000412   AC00210             242.03  2023-03-13 16:08:41           Debit         Dallas  D000605   219.98.242.240       M014  Online           58           Engineer                  124              1         4382.73     2024-11-04 08:07:12\n",
       "276       TX000277   AC00403             167.14  2023-04-24 18:33:29           Debit         Denver  D000231   125.89.163.224       M049  Online           76            Retired                   20              1         3877.73     2024-11-04 08:06:26\n",
       "2270      TX002271   AC00396             789.80  2023-07-10 16:04:39           Debit   Jacksonville  D000271    63.82.133.139       M038     ATM           40             Doctor                   94              1        13948.09     2024-11-04 08:07:32\n",
       "1310      TX001311   AC00032              52.23  2023-09-11 18:08:19          Credit  San Francisco  D000088  154.138.163.229       M016  Branch           28            Student                   96              1          105.01     2024-11-04 08:08:11"
      ]
     },
     "execution_count": 7,
     "metadata": {},
     "output_type": "execute_result"
    }
   ],
   "source": [
    "df.sample(5)"
   ]
  },
  {
   "cell_type": "code",
   "execution_count": 8,
   "metadata": {},
   "outputs": [
    {
     "name": "stdout",
     "output_type": "stream",
     "text": [
      "<class 'pandas.core.frame.DataFrame'>\n",
      "RangeIndex: 2512 entries, 0 to 2511\n",
      "Data columns (total 16 columns):\n",
      " #   Column                   Non-Null Count  Dtype  \n",
      "---  ------                   --------------  -----  \n",
      " 0   TransactionID            2512 non-null   object \n",
      " 1   AccountID                2512 non-null   object \n",
      " 2   TransactionAmount        2512 non-null   float64\n",
      " 3   TransactionDate          2512 non-null   object \n",
      " 4   TransactionType          2512 non-null   object \n",
      " 5   Location                 2512 non-null   object \n",
      " 6   DeviceID                 2512 non-null   object \n",
      " 7   IP Address               2512 non-null   object \n",
      " 8   MerchantID               2512 non-null   object \n",
      " 9   Channel                  2512 non-null   object \n",
      " 10  CustomerAge              2512 non-null   int64  \n",
      " 11  CustomerOccupation       2512 non-null   object \n",
      " 12  TransactionDuration      2512 non-null   int64  \n",
      " 13  LoginAttempts            2512 non-null   int64  \n",
      " 14  AccountBalance           2512 non-null   float64\n",
      " 15  PreviousTransactionDate  2512 non-null   object \n",
      "dtypes: float64(2), int64(3), object(11)\n",
      "memory usage: 314.1+ KB\n"
     ]
    }
   ],
   "source": [
    "df.info()"
   ]
  },
  {
   "cell_type": "code",
   "execution_count": 9,
   "metadata": {},
   "outputs": [
    {
     "data": {
      "text/html": [
       "<div>\n",
       "<style scoped>\n",
       "    .dataframe tbody tr th:only-of-type {\n",
       "        vertical-align: middle;\n",
       "    }\n",
       "\n",
       "    .dataframe tbody tr th {\n",
       "        vertical-align: top;\n",
       "    }\n",
       "\n",
       "    .dataframe thead th {\n",
       "        text-align: right;\n",
       "    }\n",
       "</style>\n",
       "<table border=\"1\" class=\"dataframe\">\n",
       "  <thead>\n",
       "    <tr style=\"text-align: right;\">\n",
       "      <th></th>\n",
       "      <th>TransactionAmount</th>\n",
       "      <th>CustomerAge</th>\n",
       "      <th>TransactionDuration</th>\n",
       "      <th>LoginAttempts</th>\n",
       "      <th>AccountBalance</th>\n",
       "    </tr>\n",
       "  </thead>\n",
       "  <tbody>\n",
       "    <tr>\n",
       "      <th>count</th>\n",
       "      <td>2512.000000</td>\n",
       "      <td>2512.000000</td>\n",
       "      <td>2512.000000</td>\n",
       "      <td>2512.000000</td>\n",
       "      <td>2512.000000</td>\n",
       "    </tr>\n",
       "    <tr>\n",
       "      <th>mean</th>\n",
       "      <td>297.593778</td>\n",
       "      <td>44.673965</td>\n",
       "      <td>119.643312</td>\n",
       "      <td>1.124602</td>\n",
       "      <td>5114.302966</td>\n",
       "    </tr>\n",
       "    <tr>\n",
       "      <th>std</th>\n",
       "      <td>291.946243</td>\n",
       "      <td>17.792198</td>\n",
       "      <td>69.963757</td>\n",
       "      <td>0.602662</td>\n",
       "      <td>3900.942499</td>\n",
       "    </tr>\n",
       "    <tr>\n",
       "      <th>min</th>\n",
       "      <td>0.260000</td>\n",
       "      <td>18.000000</td>\n",
       "      <td>10.000000</td>\n",
       "      <td>1.000000</td>\n",
       "      <td>101.250000</td>\n",
       "    </tr>\n",
       "    <tr>\n",
       "      <th>25%</th>\n",
       "      <td>81.885000</td>\n",
       "      <td>27.000000</td>\n",
       "      <td>63.000000</td>\n",
       "      <td>1.000000</td>\n",
       "      <td>1504.370000</td>\n",
       "    </tr>\n",
       "    <tr>\n",
       "      <th>50%</th>\n",
       "      <td>211.140000</td>\n",
       "      <td>45.000000</td>\n",
       "      <td>112.500000</td>\n",
       "      <td>1.000000</td>\n",
       "      <td>4735.510000</td>\n",
       "    </tr>\n",
       "    <tr>\n",
       "      <th>75%</th>\n",
       "      <td>414.527500</td>\n",
       "      <td>59.000000</td>\n",
       "      <td>161.000000</td>\n",
       "      <td>1.000000</td>\n",
       "      <td>7678.820000</td>\n",
       "    </tr>\n",
       "    <tr>\n",
       "      <th>max</th>\n",
       "      <td>1919.110000</td>\n",
       "      <td>80.000000</td>\n",
       "      <td>300.000000</td>\n",
       "      <td>5.000000</td>\n",
       "      <td>14977.990000</td>\n",
       "    </tr>\n",
       "  </tbody>\n",
       "</table>\n",
       "</div>"
      ],
      "text/plain": [
       "       TransactionAmount  CustomerAge  TransactionDuration  LoginAttempts  AccountBalance\n",
       "count        2512.000000  2512.000000          2512.000000    2512.000000     2512.000000\n",
       "mean          297.593778    44.673965           119.643312       1.124602     5114.302966\n",
       "std           291.946243    17.792198            69.963757       0.602662     3900.942499\n",
       "min             0.260000    18.000000            10.000000       1.000000      101.250000\n",
       "25%            81.885000    27.000000            63.000000       1.000000     1504.370000\n",
       "50%           211.140000    45.000000           112.500000       1.000000     4735.510000\n",
       "75%           414.527500    59.000000           161.000000       1.000000     7678.820000\n",
       "max          1919.110000    80.000000           300.000000       5.000000    14977.990000"
      ]
     },
     "execution_count": 9,
     "metadata": {},
     "output_type": "execute_result"
    }
   ],
   "source": [
    "df.describe()"
   ]
  },
  {
   "cell_type": "markdown",
   "metadata": {},
   "source": [
    "number of instances the value appears"
   ]
  },
  {
   "cell_type": "code",
   "execution_count": 10,
   "metadata": {},
   "outputs": [
    {
     "data": {
      "text/plain": [
       "<bound method IndexOpsMixin.value_counts of 0       70\n",
       "1       68\n",
       "2       19\n",
       "3       26\n",
       "4       26\n",
       "        ..\n",
       "2507    33\n",
       "2508    48\n",
       "2509    56\n",
       "2510    23\n",
       "2511    24\n",
       "Name: CustomerAge, Length: 2512, dtype: int64>"
      ]
     },
     "execution_count": 10,
     "metadata": {},
     "output_type": "execute_result"
    }
   ],
   "source": [
    "df['CustomerAge'].value_counts"
   ]
  },
  {
   "cell_type": "code",
   "execution_count": 11,
   "metadata": {},
   "outputs": [
    {
     "data": {
      "text/plain": [
       "TransactionID                         TX002512\n",
       "AccountID                              AC00500\n",
       "TransactionAmount                      1919.11\n",
       "TransactionDate            2024-01-01 18:21:50\n",
       "TransactionType                          Debit\n",
       "Location                            Washington\n",
       "DeviceID                               D000700\n",
       "IP Address                      99.205.173.118\n",
       "MerchantID                                M100\n",
       "Channel                                 Online\n",
       "CustomerAge                                 80\n",
       "CustomerOccupation                     Student\n",
       "TransactionDuration                        300\n",
       "LoginAttempts                                5\n",
       "AccountBalance                        14977.99\n",
       "PreviousTransactionDate    2024-11-04 08:12:23\n",
       "dtype: object"
      ]
     },
     "execution_count": 11,
     "metadata": {},
     "output_type": "execute_result"
    }
   ],
   "source": [
    "df.max()"
   ]
  },
  {
   "cell_type": "code",
   "execution_count": 19,
   "metadata": {},
   "outputs": [
    {
     "name": "stdout",
     "output_type": "stream",
     "text": [
      "[[ 1. 10. 30.]\n",
      " [ 2. 20. 30.]\n",
      " [ 3. 30. 40.]\n",
      " [ 3. 40. 30.]\n",
      " [ 2. 30. 40.]\n",
      " [ 7. 10. 23.]\n",
      " [ 3. 20. 22.]\n",
      " [ 8. 20. 11.]\n",
      " [ 2. 30.  2.]]\n"
     ]
    }
   ],
   "source": [
    "filename = (\"c:/Users/mkrti/OneDrive/Документы/Python projects/Pandas/Data for pandas/data1.csv\")\n",
    "\n",
    "data = np.loadtxt(filename, delimiter = \",\", skiprows=1)\n",
    "print(data)"
   ]
  },
  {
   "cell_type": "code",
   "execution_count": null,
   "metadata": {},
   "outputs": [
    {
     "data": {
      "text/plain": [
       "array([[0.43339256, 0.81990255, 0.22152528],\n",
       "       [0.23806701, 0.3278889 , 0.15201438],\n",
       "       [0.25356694, 0.9033204 , 0.0966956 ],\n",
       "       [0.84034871, 0.72371916, 0.62150586],\n",
       "       [0.61525132, 0.86136542, 0.84513863]])"
      ]
     },
     "execution_count": 20,
     "metadata": {},
     "output_type": "execute_result"
    }
   ],
   "source": [
    "data = np.random.random(size=(5,3))\n",
    "\n",
    "df1 = "
   ]
  }
 ],
 "metadata": {
  "kernelspec": {
   "display_name": "base",
   "language": "python",
   "name": "python3"
  },
  "language_info": {
   "codemirror_mode": {
    "name": "ipython",
    "version": 3
   },
   "file_extension": ".py",
   "mimetype": "text/x-python",
   "name": "python",
   "nbconvert_exporter": "python",
   "pygments_lexer": "ipython3",
   "version": "3.12.7"
  }
 },
 "nbformat": 4,
 "nbformat_minor": 2
}
